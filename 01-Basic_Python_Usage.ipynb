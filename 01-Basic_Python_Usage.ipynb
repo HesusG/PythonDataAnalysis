{
 "cells": [
  {
   "cell_type": "code",
   "execution_count": null,
   "metadata": {},
   "outputs": [],
   "source": []
  },
  {
   "cell_type": "code",
   "execution_count": 42,
   "metadata": {},
   "outputs": [
    {
     "name": "stdout",
     "output_type": "stream",
     "text": [
      "la variable contiene: \n",
      "4\n",
      "Su tipo de dato es...\n",
      "<class 'int'>\n"
     ]
    }
   ],
   "source": [
    "#Ejemplo 1 - Tipos de Datos y Variables. \n",
    "\n",
    "variable = 4\n",
    "print(\"la variable contiene: \")\n",
    "print(variable)\n",
    "print(\"Su tipo de dato es...\")\n",
    "print(type(variable))\n"
   ]
  },
  {
   "cell_type": "code",
   "execution_count": 43,
   "metadata": {
    "scrolled": true
   },
   "outputs": [
    {
     "name": "stdout",
     "output_type": "stream",
     "text": [
      "la variable ahora contiene: \n",
      "4.5\n",
      "Su tipo de dato ahora es...\n",
      "<class 'float'>\n"
     ]
    }
   ],
   "source": [
    "#Ejemplo 1 - Tipos de Datos y Variables. \n",
    "\n",
    "variable = 4.5\n",
    "print(\"la variable ahora contiene: \")\n",
    "print(variable)\n",
    "print(\"Su tipo de dato ahora es...\")\n",
    "print(type(variable))"
   ]
  },
  {
   "cell_type": "code",
   "execution_count": 44,
   "metadata": {},
   "outputs": [
    {
     "name": "stdout",
     "output_type": "stream",
     "text": [
      "la variable ahora contiene: \n",
      "tengo un montón de ricos cocos\n",
      "Su tipo de dato finalmente es...\n",
      "<class 'str'>\n"
     ]
    }
   ],
   "source": [
    "#Ejemplo 1 - Tipos de Datos y Variables. \n",
    "\n",
    "variable = \"tengo un montón de ricos cocos\"\n",
    "print(\"la variable ahora contiene: \")\n",
    "print(variable)\n",
    "print(\"Su tipo de dato finalmente es...\")\n",
    "print(type(variable))"
   ]
  },
  {
   "cell_type": "code",
   "execution_count": 45,
   "metadata": {},
   "outputs": [],
   "source": [
    "#Reto 1 - Creación de una calculadora. (Completo)\n",
    "\n",
    "var1 = 1\n",
    "var2 = 2\n",
    "resultado = 4"
   ]
  },
  {
   "cell_type": "code",
   "execution_count": 50,
   "metadata": {},
   "outputs": [
    {
     "name": "stdout",
     "output_type": "stream",
     "text": [
      "El resultado de la suma es:\n",
      "15\n",
      "El resultado de la resta es:\n",
      "-5\n",
      "El resultado de la multiplicacion es:\n",
      "50\n",
      "El resultado de la division es:\n",
      "0.5\n",
      "El resultado del módulo es:\n",
      "5\n",
      "El resultado de la potencia es:\n",
      "9765625\n"
     ]
    }
   ],
   "source": [
    "var1 = 5\n",
    "var2 = 10\n",
    "resultado = 0\n",
    "\n",
    "resultado = var1+var2\n",
    "print(\"El resultado de la suma es:\")\n",
    "print(resultado)\n",
    "\n",
    "resultado = var1-var2\n",
    "print(\"El resultado de la resta es:\")\n",
    "print(resultado)\n",
    "\n",
    "resultado = var1*var2\n",
    "print(\"El resultado de la multiplicacion es:\")\n",
    "print(resultado)\n",
    "\n",
    "resultado = var1/var2\n",
    "print(\"El resultado de la division es:\")\n",
    "print(resultado)\n",
    "\n",
    "resultado = var1%var2 \n",
    "print(\"El resultado del módulo es:\")\n",
    "print(resultado)\n",
    "\n",
    "resultado = var1**var2 \n",
    "print(\"El resultado de la potencia es:\")\n",
    "print(resultado)\n"
   ]
  },
  {
   "cell_type": "code",
   "execution_count": 29,
   "metadata": {},
   "outputs": [
    {
     "ename": "SyntaxError",
     "evalue": "invalid syntax (<ipython-input-29-c012aeeff33a>, line 41)",
     "output_type": "error",
     "traceback": [
      "\u001b[0;36m  File \u001b[0;32m\"<ipython-input-29-c012aeeff33a>\"\u001b[0;36m, line \u001b[0;32m41\u001b[0m\n\u001b[0;31m    .\u001b[0m\n\u001b[0m    ^\u001b[0m\n\u001b[0;31mSyntaxError\u001b[0m\u001b[0;31m:\u001b[0m invalid syntax\n"
     ]
    }
   ],
   "source": [
    "\"\"\"\n",
    "************************************************\n",
    "Reto 1 - Creación de una calculadora. (Completo)\n",
    "*************************************************\n",
    "*\n",
    "*\n",
    "*\n",
    "*\n",
    "*\n",
    "*\n",
    "\n",
    "\"\"\"\n",
    "\n",
    "var1 = 5\n",
    "var2 = 10\n",
    "resultado = 0\n",
    "\n",
    "resultado = var1+var2\n",
    "print(\"El resultado de la suma es:\")\n",
    "print(resultado)\n",
    "\n",
    "resultado = var1-var2\n",
    "print(\"El resultado de la resta es:\")\n",
    "print(resultado)\n",
    "\n",
    "resultado = var1*var2\n",
    "print(\"El resultado de la multiplicacion es:\")\n",
    "print(resultado)\n",
    "\n",
    "resultado = var1/var2\n",
    "print(\"El resultado de la division es:\")\n",
    "print(resultado)\n",
    "\n",
    "resultado = var1%var2\n",
    "print(\"El resultado del módulo es:\")\n",
    "print(resultado)\n",
    "\n",
    "resultado = var1**var2\n",
    "print(\"El resultado de la potencia es:\")\n",
    "print(resultado)\n",
    ".\n"
   ]
  },
  {
   "cell_type": "code",
   "execution_count": 61,
   "metadata": {},
   "outputs": [
    {
     "name": "stdout",
     "output_type": "stream",
     "text": [
      "Buscando ingredientes...\n",
      "Eligiendo una receta...\n",
      "Cocinando...\n",
      "Preparando café...\n",
      "Cafe y comida lista! Sirviendo...\n",
      "¡El desayuno está listo!\n"
     ]
    }
   ],
   "source": [
    "#Ejemplo 2 - Procedimientos\n",
    "\n",
    "def prepararDesayuno():\n",
    "    print(\"Buscando ingredientes...\")\n",
    "    print(\"Eligiendo una receta...\")\n",
    "    print(\"Cocinando...\")\n",
    "    print(\"Preparando café...\")\n",
    "    print(\"Cafe y comida lista! Sirviendo...\")\n",
    "    print(\"¡El desayuno está listo!\")\n",
    "\n",
    "\n",
    "prepararDesayuno()"
   ]
  },
  {
   "cell_type": "code",
   "execution_count": 60,
   "metadata": {},
   "outputs": [
    {
     "name": "stdout",
     "output_type": "stream",
     "text": [
      "Paseando a Luca va Parque en 30 min\n"
     ]
    }
   ],
   "source": [
    "nombrePerro = \"Luca\"\n",
    "camino = \"Parque\"\n",
    "tiempo = \"30 min\"\n",
    "\n",
    "def pasearPerro(nombrePerro,camino,tiempo):\n",
    "    print(\"Paseando a \"+nombrePerro+\n",
    "          \" va \"+camino+\n",
    "          \" en \"+ tiempo)\n",
    "\n",
    "pasearPerro(nombrePerro,camino,tiempo)"
   ]
  },
  {
   "cell_type": "code",
   "execution_count": 62,
   "metadata": {},
   "outputs": [
    {
     "name": "stdout",
     "output_type": "stream",
     "text": [
      "Subiendo a Metrobus\n",
      "Yendo por linea 1\n",
      "¡Has llegado a tu destino!\n"
     ]
    }
   ],
   "source": [
    "#Ejemplo 2 - Procedimientos\n",
    "\n",
    "def abordarElTransporte(nombreDelTransporte,rutaASeguir):\n",
    "    print(\"Subiendo a \"+nombreDelTransporte)\n",
    "    print(\"Yendo por \"+rutaASeguir)\n",
    "    print(\"¡Has llegado a tu destino!\")\n",
    "\n",
    "\n",
    "abordarElTransporte(\"Metrobus\",\"linea 1\")\n"
   ]
  },
  {
   "cell_type": "code",
   "execution_count": 13,
   "metadata": {},
   "outputs": [],
   "source": [
    "def calcularCalorias(tiempoEnHoras):\n",
    "    tiempoEnMinutos = tiempoEnHoras*60\n",
    "    calorias  = tiempoEnMinutos/3\n",
    "    return calorias\n",
    "\n"
   ]
  },
  {
   "cell_type": "code",
   "execution_count": 63,
   "metadata": {},
   "outputs": [
    {
     "name": "stdout",
     "output_type": "stream",
     "text": [
      "Vamos a jugar Fútbol\n",
      "Jugarás durante 3 horas\n",
      "Gastaste 60.0 Cals\n",
      "con balón\n"
     ]
    }
   ],
   "source": [
    "#Ejemplo 2 - Procedimientos\n",
    "\n",
    "def hacerEjercicio(deporte, tiempoEnHoras, equipoAUsar):\n",
    "    print(\"Vamos a jugar \"+deporte);\n",
    "    print(\"Jugarás durante \"+str(tiempoEnHoras)+\" horas\")\n",
    "    calorias = calcularCalorias(tiempoEnHoras)\n",
    "    print(\"Gastaste \"+str(calorias)+ \" Cals\")\n",
    "    print(\"con \"+equipoAUsar)\n",
    "\n",
    "hacerEjercicio(\"Fútbol\",3,\"balón\")\n",
    "\n"
   ]
  },
  {
   "cell_type": "code",
   "execution_count": 64,
   "metadata": {},
   "outputs": [
    {
     "name": "stdout",
     "output_type": "stream",
     "text": [
      "Vamos a pasear a firulais\n",
      "iremos por El parque y el boulevard\n",
      "y nos va a tomar 10 minutos\n"
     ]
    }
   ],
   "source": [
    "\"\"\"\n",
    "************************************************\n",
    "Reto 2 - Pasear al Perro\n",
    "*************************************************\n",
    "*\n",
    "*\n",
    "*\n",
    "*\n",
    "*\n",
    "*\n",
    "\n",
    "\"\"\"\n",
    "\n",
    "def pasearPerro(nombrePerro, rutaASeguir, tiempoEnMinutos):\n",
    "    print(\"Vamos a pasear a \"+str(nombrePerro))\n",
    "    print(\"iremos por \"+str(rutaASeguir))\n",
    "    print(\"y nos va a tomar \"+str(tiempoEnMinutos)+\" minutos\")\n",
    "\n",
    "\n",
    "pasearPerro(\"firulais\",\"El parque y el boulevard\", 10)\n"
   ]
  },
  {
   "cell_type": "code",
   "execution_count": 10,
   "metadata": {},
   "outputs": [
    {
     "ename": "NameError",
     "evalue": "name 'Futbol' is not defined",
     "output_type": "error",
     "traceback": [
      "\u001b[0;31m---------------------------------------------------------------------------\u001b[0m",
      "\u001b[0;31mNameError\u001b[0m                                 Traceback (most recent call last)",
      "\u001b[0;32m<ipython-input-10-403611c500f7>\u001b[0m in \u001b[0;36m<module>\u001b[0;34m\u001b[0m\n\u001b[1;32m     18\u001b[0m \u001b[0;34m\u001b[0m\u001b[0m\n\u001b[1;32m     19\u001b[0m \u001b[0;34m\u001b[0m\u001b[0m\n\u001b[0;32m---> 20\u001b[0;31m \u001b[0mhacerDeporte\u001b[0m\u001b[0;34m(\u001b[0m\u001b[0mFutbol\u001b[0m\u001b[0;34m,\u001b[0m\u001b[0;36m90\u001b[0m\u001b[0;34m,\u001b[0m\u001b[0;34m\"Balón y porterías\"\u001b[0m\u001b[0;34m)\u001b[0m\u001b[0;34m\u001b[0m\u001b[0;34m\u001b[0m\u001b[0m\n\u001b[0m",
      "\u001b[0;31mNameError\u001b[0m: name 'Futbol' is not defined"
     ]
    }
   ],
   "source": [
    "\"\"\"\n",
    "************************************************\n",
    "Reto 2 - Hacer Deporte\n",
    "*************************************************\n",
    "*\n",
    "*\n",
    "*\n",
    "*\n",
    "*\n",
    "*\n",
    "\n",
    "\"\"\"\n",
    "\n",
    "def hacerDeporte(deporte, tiempoEnMinutos, equipoAUsar):\n",
    "    print(\"Vamos a hacer \"+deporte)\n",
    "    print(\"durante \"+str(tiempoEnMinutos)+\" minutos\")\n",
    "    print(\"con \"+str(equipoAUsar))\n",
    "\n",
    "\n",
    "hacerDeporte(Futbol,90,\"Balón y porterías\")\n"
   ]
  },
  {
   "cell_type": "code",
   "execution_count": 15,
   "metadata": {},
   "outputs": [],
   "source": [
    "\"\"\"\n",
    "************************************************\n",
    "Reto 3 - Calcular IMC \n",
    "*************************************************\n",
    "*\n",
    "*\n",
    "*\n",
    "\n",
    "\"\"\"\n",
    "\n",
    "def calcularIMC(peso, estatura):\n",
    "    IMC = peso / (estatura**2)\n",
    "    return IMC\n",
    "\n",
    "def imc(peso,estatura):\n",
    "    imc = peso / (estatura**2)\n",
    "    print (\"Tu IMC es de\",imc)\n"
   ]
  },
  {
   "cell_type": "code",
   "execution_count": 72,
   "metadata": {},
   "outputs": [
    {
     "name": "stdout",
     "output_type": "stream",
     "text": [
      "Te encuentras en obesidad grado I\n"
     ]
    }
   ],
   "source": [
    "def revisarEstadoDeSalud(peso, estatura):\n",
    "    IMC = calcularIMC(peso,estatura)\n",
    "    if(IMC < 18.5):\n",
    "        print(\"te encuentras en peso bajo\")\n",
    "    elif(IMC >= 18.5 and IMC < 24.9):\n",
    "        print(\"te encuentras en tu peso normal\")\n",
    "    elif(IMC >= 25.0 and IMC < 29.9):\n",
    "         print(\"Te encuentras en sobrepeso\")\n",
    "    elif(IMC >= 30.0 and IMC < 34.9):\n",
    "         print(\"Te encuentras en obesidad grado I\")\n",
    "    elif(IMC >= 35.0 and IMC < 39.9):\n",
    "         print(\"Te encuentras en obesidad grado II\")\n",
    "    else:\n",
    "        print(\"Te encuentras en obesidad grado III\")\n",
    "        \n",
    "        \n",
    "        \n",
    "revisarEstadoDeSalud(85,-1.65)"
   ]
  },
  {
   "cell_type": "code",
   "execution_count": 36,
   "metadata": {},
   "outputs": [
    {
     "ename": "SyntaxError",
     "evalue": "invalid syntax (<ipython-input-36-8dc83751809d>, line 15)",
     "output_type": "error",
     "traceback": [
      "\u001b[0;36m  File \u001b[0;32m\"<ipython-input-36-8dc83751809d>\"\u001b[0;36m, line \u001b[0;32m15\u001b[0m\n\u001b[0;31m    .\u001b[0m\n\u001b[0m    ^\u001b[0m\n\u001b[0;31mSyntaxError\u001b[0m\u001b[0;31m:\u001b[0m invalid syntax\n"
     ]
    }
   ],
   "source": [
    "#Ejemplo de Condicionales. \n",
    "\n",
    "def salirDePaseo(estaLloviendo, traesParaguas):\n",
    "    print(\"Saldremos de paseo?...\")\n",
    "    if(estaLloviendo == True):\n",
    "        if(traesParaguas == True):\n",
    "            print(\"Ok! vamos a salir!\")\n",
    "        else:\n",
    "            print(\"No creo que sea una buena idea\")\n",
    "    else:\n",
    "        print(\"Ok! vamos a salir!\")\n",
    "        \n",
    "salirDePaseo(True, True)\n",
    "\n",
    "."
   ]
  },
  {
   "cell_type": "code",
   "execution_count": 65,
   "metadata": {},
   "outputs": [
    {
     "name": "stdout",
     "output_type": "stream",
     "text": [
      "Resultados:\n",
      "Te recomiendo que veas John Wick\n"
     ]
    }
   ],
   "source": [
    "\"\"\"\n",
    "************************************************\n",
    "Reto 4 - Películas \n",
    "*************************************************\n",
    "*\n",
    "*\n",
    "\n",
    "\"\"\"\n",
    "\n",
    "def recomiendamePeliculas(accion, superheroes):\n",
    "    if(accion == True):\n",
    "        if(superheroes == True):\n",
    "            print(\"Te recomiendo ver Avengers Endgame!\")\n",
    "        else:\n",
    "            print(\"Te recomiendo que veas John Wick\")\n",
    "    else:\n",
    "        if(superheroes == True):\n",
    "            print(\"Te recomiendo ver Batman\")\n",
    "        else:\n",
    "            print(\"Te recomiendo 500 dias con summer\")\n",
    "\n",
    "\n",
    "\n",
    "print(\"Resultados:\")\n",
    "\n",
    "recomiendamePeliculas(accion=True,superheroes=False)\n",
    ".\n"
   ]
  },
  {
   "cell_type": "code",
   "execution_count": 71,
   "metadata": {},
   "outputs": [
    {
     "name": "stdout",
     "output_type": "stream",
     "text": [
      "Tu IMC es: 31.22130394857668\n",
      "Obesidad grado I\n"
     ]
    }
   ],
   "source": [
    "def imc(peso,estatura):\n",
    "    imc = peso / (estatura**2)\n",
    "    return imc\n",
    "\n",
    "def Salud(imc):\n",
    "    if imc < 18.5:\n",
    "        return \"Bajo peso\"\n",
    "    elif imc < 25:\n",
    "        return \"Peso Normal\"\n",
    "    elif imc < 30:\n",
    "        return \"Sobrepeso\"\n",
    "    elif imc <35:\n",
    "        return \"Obesidad grado I\"\n",
    "    elif imc <40:\n",
    "        return \"Obesidad grado II\"\n",
    "    else:\n",
    "        return \"Obesidad grado III\"\n",
    "imc=imc(85,1.65)\n",
    "print(\"Tu IMC es:\",imc)\n",
    "print(Salud(imc))"
   ]
  },
  {
   "cell_type": "code",
   "execution_count": 66,
   "metadata": {},
   "outputs": [
    {
     "name": "stdout",
     "output_type": "stream",
     "text": [
      "Te recomiendo ver Avengers Endgame!\n"
     ]
    }
   ],
   "source": [
    "recomiendamePeliculas(accion=True,superheroes=True)"
   ]
  },
  {
   "cell_type": "code",
   "execution_count": 67,
   "metadata": {},
   "outputs": [
    {
     "name": "stdout",
     "output_type": "stream",
     "text": [
      "Te recomiendo ver Batman\n"
     ]
    }
   ],
   "source": [
    "recomiendamePeliculas(accion=False,superheroes=True)"
   ]
  },
  {
   "cell_type": "code",
   "execution_count": 68,
   "metadata": {},
   "outputs": [
    {
     "name": "stdout",
     "output_type": "stream",
     "text": [
      "Te recomiendo 500 dias con summer\n"
     ]
    }
   ],
   "source": [
    "recomiendamePeliculas(accion=False,superheroes=False)"
   ]
  },
  {
   "cell_type": "code",
   "execution_count": 73,
   "metadata": {},
   "outputs": [
    {
     "name": "stdout",
     "output_type": "stream",
     "text": [
      "['Ana Vasquez Ortega', 'Rocío Cuevas Florencia', 'Luis Hernández López', 'Jose Antonio Ramírez Bastián']\n"
     ]
    }
   ],
   "source": [
    "\"\"\"\n",
    "************************************************\n",
    " Listas\n",
    "*************************************************\n",
    "*\n",
    "*\n",
    "\n",
    "\"\"\"\n",
    "\n",
    "listaNombres = ['Ana', 'Rocío', 'Luis', 'Jose Antonio']\n",
    "listaApellidosPat = ['Vasquez', 'Cuevas', 'Hernández', 'Ramírez']\n",
    "listaApellidosMat = ['Ortega', 'Florencia', 'López', 'Bastián']\n",
    "\n",
    "listaNombresCompletos = []\n",
    "\n",
    "for contador in range(0,len(listaNombres)):\n",
    "    listaNombresCompletos.append(listaNombres[contador]+\" \"+\n",
    "                                 listaApellidosPat[contador]+\" \"+\n",
    "                                 listaApellidosMat[contador])\n",
    "\n",
    "print(listaNombresCompletos)\n"
   ]
  }
 ],
 "metadata": {
  "kernelspec": {
   "display_name": "Python 3",
   "language": "python",
   "name": "python3"
  },
  "language_info": {
   "codemirror_mode": {
    "name": "ipython",
    "version": 3
   },
   "file_extension": ".py",
   "mimetype": "text/x-python",
   "name": "python",
   "nbconvert_exporter": "python",
   "pygments_lexer": "ipython3",
   "version": "3.6.8"
  }
 },
 "nbformat": 4,
 "nbformat_minor": 4
}
