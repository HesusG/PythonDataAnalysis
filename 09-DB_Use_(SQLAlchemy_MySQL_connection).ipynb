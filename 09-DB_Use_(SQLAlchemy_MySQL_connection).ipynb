{
 "cells": [
  {
   "cell_type": "code",
   "execution_count": 164,
   "metadata": {},
   "outputs": [],
   "source": [
    "userDB = ###\n",
    "passwordDB = ####\n",
    "hostDB = ###\n",
    "port=  ##\n",
    "db = ###\n",
    "\n",
    "string = 'mysql+pymysql://'+userDB+':'+passwordDB+'@'+hostDB+':'+port+'/'+db"
   ]
  },
  {
   "cell_type": "code",
   "execution_count": 165,
   "metadata": {},
   "outputs": [
    {
     "name": "stdout",
     "output_type": "stream",
     "text": [
      "2020-06-29 16:39:07,507 INFO sqlalchemy.engine.base.Engine SHOW VARIABLES LIKE 'sql_mode'\n",
      "2020-06-29 16:39:07,510 INFO sqlalchemy.engine.base.Engine {}\n",
      "2020-06-29 16:39:07,619 INFO sqlalchemy.engine.base.Engine SHOW VARIABLES LIKE 'lower_case_table_names'\n",
      "2020-06-29 16:39:07,622 INFO sqlalchemy.engine.base.Engine {}\n",
      "2020-06-29 16:39:07,839 INFO sqlalchemy.engine.base.Engine SELECT DATABASE()\n",
      "2020-06-29 16:39:07,841 INFO sqlalchemy.engine.base.Engine {}\n",
      "2020-06-29 16:39:08,053 INFO sqlalchemy.engine.base.Engine show collation where `Charset` = 'utf8mb4' and `Collation` = 'utf8mb4_bin'\n",
      "2020-06-29 16:39:08,055 INFO sqlalchemy.engine.base.Engine {}\n",
      "2020-06-29 16:39:08,171 INFO sqlalchemy.engine.base.Engine SELECT CAST('test plain returns' AS CHAR(60)) AS anon_1\n",
      "2020-06-29 16:39:08,173 INFO sqlalchemy.engine.base.Engine {}\n",
      "2020-06-29 16:39:08,282 INFO sqlalchemy.engine.base.Engine SELECT CAST('test unicode returns' AS CHAR(60)) AS anon_1\n",
      "2020-06-29 16:39:08,284 INFO sqlalchemy.engine.base.Engine {}\n",
      "2020-06-29 16:39:08,395 INFO sqlalchemy.engine.base.Engine SELECT CAST('test collated returns' AS CHAR CHARACTER SET utf8mb4) COLLATE utf8mb4_bin AS anon_1\n",
      "2020-06-29 16:39:08,397 INFO sqlalchemy.engine.base.Engine {}\n"
     ]
    }
   ],
   "source": [
    "import pandas as pd\n",
    "import sqlalchemy as db\n",
    "import pymssql\n",
    "\n",
    "from sqlalchemy import create_engine\n",
    "\n",
    "\n",
    "engine = create_engine(\n",
    "    string\n",
    "    ,echo = True)\n",
    "\n",
    "connection = engine.connect()"
   ]
  },
  {
   "cell_type": "code",
   "execution_count": 170,
   "metadata": {},
   "outputs": [],
   "source": [
    "metadata = db.MetaData()"
   ]
  },
  {
   "cell_type": "code",
   "execution_count": 137,
   "metadata": {},
   "outputs": [
    {
     "name": "stdout",
     "output_type": "stream",
     "text": [
      "2020-06-29 16:16:09,424 INFO sqlalchemy.engine.base.Engine SHOW CREATE TABLE `Viaje`\n",
      "2020-06-29 16:16:09,427 INFO sqlalchemy.engine.base.Engine {}\n"
     ]
    }
   ],
   "source": [
    "viaje = db.Table('Viaje', metadata, autoload=True, autoload_with=engine)"
   ]
  },
  {
   "cell_type": "code",
   "execution_count": 141,
   "metadata": {},
   "outputs": [
    {
     "data": {
      "text/plain": [
       "Table('Viaje', MetaData(bind=None), Column('Fecha', VARCHAR(length=45), table=<Viaje>), Column('Viaje_Id', VARCHAR(length=45), table=<Viaje>), Column('Usuario_Id', VARCHAR(length=12), table=<Viaje>), Column('Genero', VARCHAR(length=5), table=<Viaje>), Column('Inicio_del_viaje', VARCHAR(length=45), table=<Viaje>), Column('Fin_del_viaje', VARCHAR(length=45), table=<Viaje>), Column('Origen_Id', VARCHAR(length=12), table=<Viaje>), Column('Destino_Id', VARCHAR(length=12), table=<Viaje>), Column('duracion_viaje', TIME(), table=<Viaje>), schema=None)"
      ]
     },
     "execution_count": 141,
     "metadata": {},
     "output_type": "execute_result"
    }
   ],
   "source": [
    "viaje"
   ]
  },
  {
   "cell_type": "code",
   "execution_count": 142,
   "metadata": {},
   "outputs": [
    {
     "data": {
      "text/plain": [
       "['Fecha',\n",
       " 'Viaje_Id',\n",
       " 'Usuario_Id',\n",
       " 'Genero',\n",
       " 'Inicio_del_viaje',\n",
       " 'Fin_del_viaje',\n",
       " 'Origen_Id',\n",
       " 'Destino_Id',\n",
       " 'duracion_viaje']"
      ]
     },
     "execution_count": 142,
     "metadata": {},
     "output_type": "execute_result"
    }
   ],
   "source": [
    "viaje.columns.keys()"
   ]
  },
  {
   "cell_type": "code",
   "execution_count": 57,
   "metadata": {},
   "outputs": [
    {
     "name": "stdout",
     "output_type": "stream",
     "text": [
      "2020-06-29 13:23:04,469 INFO sqlalchemy.engine.base.Engine SELECT * FROM Viaje limit 10\n",
      "2020-06-29 13:23:04,470 INFO sqlalchemy.engine.base.Engine {}\n"
     ]
    }
   ],
   "source": [
    "query = 'SELECT * FROM Viaje limit 10'\n",
    "\n",
    "result = connection.execute(query)"
   ]
  },
  {
   "cell_type": "code",
   "execution_count": 58,
   "metadata": {},
   "outputs": [],
   "source": [
    "result = result.fetchall()"
   ]
  },
  {
   "cell_type": "code",
   "execution_count": 60,
   "metadata": {},
   "outputs": [
    {
     "data": {
      "text/html": [
       "<div>\n",
       "<style scoped>\n",
       "    .dataframe tbody tr th:only-of-type {\n",
       "        vertical-align: middle;\n",
       "    }\n",
       "\n",
       "    .dataframe tbody tr th {\n",
       "        vertical-align: top;\n",
       "    }\n",
       "\n",
       "    .dataframe thead th {\n",
       "        text-align: right;\n",
       "    }\n",
       "</style>\n",
       "<table border=\"1\" class=\"dataframe\">\n",
       "  <thead>\n",
       "    <tr style=\"text-align: right;\">\n",
       "      <th></th>\n",
       "      <th>0</th>\n",
       "      <th>1</th>\n",
       "      <th>2</th>\n",
       "      <th>3</th>\n",
       "      <th>4</th>\n",
       "      <th>5</th>\n",
       "      <th>6</th>\n",
       "      <th>7</th>\n",
       "      <th>8</th>\n",
       "    </tr>\n",
       "  </thead>\n",
       "  <tbody>\n",
       "    <tr>\n",
       "      <th>0</th>\n",
       "      <td>01/01/2018</td>\n",
       "      <td>4783525</td>\n",
       "      <td>28966</td>\n",
       "      <td>M</td>\n",
       "      <td>01/01/2018 06:01:00 a. m.</td>\n",
       "      <td>01/01/2018 06:10:00 a. m.</td>\n",
       "      <td>59</td>\n",
       "      <td>28</td>\n",
       "      <td>00:09:00</td>\n",
       "    </tr>\n",
       "    <tr>\n",
       "      <th>1</th>\n",
       "      <td>01/01/2018</td>\n",
       "      <td>4783526</td>\n",
       "      <td>30089</td>\n",
       "      <td>M</td>\n",
       "      <td>01/01/2018 06:03:00 a. m.</td>\n",
       "      <td>01/01/2018 06:06:00 a. m.</td>\n",
       "      <td>250</td>\n",
       "      <td>164</td>\n",
       "      <td>00:03:00</td>\n",
       "    </tr>\n",
       "    <tr>\n",
       "      <th>2</th>\n",
       "      <td>01/01/2018</td>\n",
       "      <td>4783527</td>\n",
       "      <td>32691</td>\n",
       "      <td>M</td>\n",
       "      <td>01/01/2018 06:09:00 a. m.</td>\n",
       "      <td>01/01/2018 06:15:00 a. m.</td>\n",
       "      <td>148</td>\n",
       "      <td>238</td>\n",
       "      <td>00:06:00</td>\n",
       "    </tr>\n",
       "    <tr>\n",
       "      <th>3</th>\n",
       "      <td>01/01/2018</td>\n",
       "      <td>4783528</td>\n",
       "      <td>19027</td>\n",
       "      <td>M</td>\n",
       "      <td>01/01/2018 06:16:00 a. m.</td>\n",
       "      <td>01/01/2018 06:26:00 a. m.</td>\n",
       "      <td>202</td>\n",
       "      <td>51</td>\n",
       "      <td>00:10:00</td>\n",
       "    </tr>\n",
       "    <tr>\n",
       "      <th>4</th>\n",
       "      <td>01/01/2018</td>\n",
       "      <td>4783529</td>\n",
       "      <td>27154</td>\n",
       "      <td>M</td>\n",
       "      <td>01/01/2018 06:19:00 a. m.</td>\n",
       "      <td>01/01/2018 06:24:00 a. m.</td>\n",
       "      <td>11</td>\n",
       "      <td>173</td>\n",
       "      <td>00:05:00</td>\n",
       "    </tr>\n",
       "    <tr>\n",
       "      <th>5</th>\n",
       "      <td>01/01/2018</td>\n",
       "      <td>4783530</td>\n",
       "      <td>32199</td>\n",
       "      <td>M</td>\n",
       "      <td>01/01/2018 06:24:00 a. m.</td>\n",
       "      <td>01/01/2018 06:35:00 a. m.</td>\n",
       "      <td>250</td>\n",
       "      <td>167</td>\n",
       "      <td>00:11:00</td>\n",
       "    </tr>\n",
       "    <tr>\n",
       "      <th>6</th>\n",
       "      <td>01/01/2018</td>\n",
       "      <td>4783531</td>\n",
       "      <td>16942</td>\n",
       "      <td>M</td>\n",
       "      <td>01/01/2018 06:30:00 a. m.</td>\n",
       "      <td>01/01/2018 06:41:00 a. m.</td>\n",
       "      <td>42</td>\n",
       "      <td>191</td>\n",
       "      <td>00:11:00</td>\n",
       "    </tr>\n",
       "    <tr>\n",
       "      <th>7</th>\n",
       "      <td>01/01/2018</td>\n",
       "      <td>4783532</td>\n",
       "      <td>32705</td>\n",
       "      <td>F</td>\n",
       "      <td>01/01/2018 06:32:00 a. m.</td>\n",
       "      <td>01/01/2018 06:49:00 a. m.</td>\n",
       "      <td>86</td>\n",
       "      <td>160</td>\n",
       "      <td>00:17:00</td>\n",
       "    </tr>\n",
       "    <tr>\n",
       "      <th>8</th>\n",
       "      <td>01/01/2018</td>\n",
       "      <td>4783533</td>\n",
       "      <td>9596</td>\n",
       "      <td>M</td>\n",
       "      <td>01/01/2018 06:32:00 a. m.</td>\n",
       "      <td>01/01/2018 06:49:00 a. m.</td>\n",
       "      <td>86</td>\n",
       "      <td>160</td>\n",
       "      <td>00:17:00</td>\n",
       "    </tr>\n",
       "    <tr>\n",
       "      <th>9</th>\n",
       "      <td>01/01/2018</td>\n",
       "      <td>4783534</td>\n",
       "      <td>17818</td>\n",
       "      <td>M</td>\n",
       "      <td>01/01/2018 06:32:00 a. m.</td>\n",
       "      <td>01/01/2018 06:48:00 a. m.</td>\n",
       "      <td>165</td>\n",
       "      <td>167</td>\n",
       "      <td>00:16:00</td>\n",
       "    </tr>\n",
       "  </tbody>\n",
       "</table>\n",
       "</div>"
      ],
      "text/plain": [
       "            0        1      2  3                          4  \\\n",
       "0  01/01/2018  4783525  28966  M  01/01/2018 06:01:00 a. m.   \n",
       "1  01/01/2018  4783526  30089  M  01/01/2018 06:03:00 a. m.   \n",
       "2  01/01/2018  4783527  32691  M  01/01/2018 06:09:00 a. m.   \n",
       "3  01/01/2018  4783528  19027  M  01/01/2018 06:16:00 a. m.   \n",
       "4  01/01/2018  4783529  27154  M  01/01/2018 06:19:00 a. m.   \n",
       "5  01/01/2018  4783530  32199  M  01/01/2018 06:24:00 a. m.   \n",
       "6  01/01/2018  4783531  16942  M  01/01/2018 06:30:00 a. m.   \n",
       "7  01/01/2018  4783532  32705  F  01/01/2018 06:32:00 a. m.   \n",
       "8  01/01/2018  4783533   9596  M  01/01/2018 06:32:00 a. m.   \n",
       "9  01/01/2018  4783534  17818  M  01/01/2018 06:32:00 a. m.   \n",
       "\n",
       "                           5    6    7        8  \n",
       "0  01/01/2018 06:10:00 a. m.   59   28 00:09:00  \n",
       "1  01/01/2018 06:06:00 a. m.  250  164 00:03:00  \n",
       "2  01/01/2018 06:15:00 a. m.  148  238 00:06:00  \n",
       "3  01/01/2018 06:26:00 a. m.  202   51 00:10:00  \n",
       "4  01/01/2018 06:24:00 a. m.   11  173 00:05:00  \n",
       "5  01/01/2018 06:35:00 a. m.  250  167 00:11:00  \n",
       "6  01/01/2018 06:41:00 a. m.   42  191 00:11:00  \n",
       "7  01/01/2018 06:49:00 a. m.   86  160 00:17:00  \n",
       "8  01/01/2018 06:49:00 a. m.   86  160 00:17:00  \n",
       "9  01/01/2018 06:48:00 a. m.  165  167 00:16:00  "
      ]
     },
     "execution_count": 60,
     "metadata": {},
     "output_type": "execute_result"
    }
   ],
   "source": [
    "pd.DataFrame(result)"
   ]
  },
  {
   "cell_type": "code",
   "execution_count": 65,
   "metadata": {},
   "outputs": [
    {
     "name": "stdout",
     "output_type": "stream",
     "text": [
      "2020-06-29 13:27:44,217 INFO sqlalchemy.engine.base.Engine SELECT * FROM Viaje limit 10\n",
      "2020-06-29 13:27:44,218 INFO sqlalchemy.engine.base.Engine {}\n"
     ]
    },
    {
     "data": {
      "text/html": [
       "<div>\n",
       "<style scoped>\n",
       "    .dataframe tbody tr th:only-of-type {\n",
       "        vertical-align: middle;\n",
       "    }\n",
       "\n",
       "    .dataframe tbody tr th {\n",
       "        vertical-align: top;\n",
       "    }\n",
       "\n",
       "    .dataframe thead th {\n",
       "        text-align: right;\n",
       "    }\n",
       "</style>\n",
       "<table border=\"1\" class=\"dataframe\">\n",
       "  <thead>\n",
       "    <tr style=\"text-align: right;\">\n",
       "      <th></th>\n",
       "      <th>Fecha</th>\n",
       "      <th>Viaje_Id</th>\n",
       "      <th>Usuario_Id</th>\n",
       "      <th>Genero</th>\n",
       "      <th>Inicio_del_viaje</th>\n",
       "      <th>Fin_del_viaje</th>\n",
       "      <th>Origen_Id</th>\n",
       "      <th>Destino_Id</th>\n",
       "      <th>duracion_viaje</th>\n",
       "    </tr>\n",
       "  </thead>\n",
       "  <tbody>\n",
       "    <tr>\n",
       "      <th>0</th>\n",
       "      <td>01/01/2018</td>\n",
       "      <td>4783525</td>\n",
       "      <td>28966</td>\n",
       "      <td>M</td>\n",
       "      <td>01/01/2018 06:01:00 a. m.</td>\n",
       "      <td>01/01/2018 06:10:00 a. m.</td>\n",
       "      <td>59</td>\n",
       "      <td>28</td>\n",
       "      <td>00:09:00</td>\n",
       "    </tr>\n",
       "    <tr>\n",
       "      <th>1</th>\n",
       "      <td>01/01/2018</td>\n",
       "      <td>4783526</td>\n",
       "      <td>30089</td>\n",
       "      <td>M</td>\n",
       "      <td>01/01/2018 06:03:00 a. m.</td>\n",
       "      <td>01/01/2018 06:06:00 a. m.</td>\n",
       "      <td>250</td>\n",
       "      <td>164</td>\n",
       "      <td>00:03:00</td>\n",
       "    </tr>\n",
       "    <tr>\n",
       "      <th>2</th>\n",
       "      <td>01/01/2018</td>\n",
       "      <td>4783527</td>\n",
       "      <td>32691</td>\n",
       "      <td>M</td>\n",
       "      <td>01/01/2018 06:09:00 a. m.</td>\n",
       "      <td>01/01/2018 06:15:00 a. m.</td>\n",
       "      <td>148</td>\n",
       "      <td>238</td>\n",
       "      <td>00:06:00</td>\n",
       "    </tr>\n",
       "    <tr>\n",
       "      <th>3</th>\n",
       "      <td>01/01/2018</td>\n",
       "      <td>4783528</td>\n",
       "      <td>19027</td>\n",
       "      <td>M</td>\n",
       "      <td>01/01/2018 06:16:00 a. m.</td>\n",
       "      <td>01/01/2018 06:26:00 a. m.</td>\n",
       "      <td>202</td>\n",
       "      <td>51</td>\n",
       "      <td>00:10:00</td>\n",
       "    </tr>\n",
       "    <tr>\n",
       "      <th>4</th>\n",
       "      <td>01/01/2018</td>\n",
       "      <td>4783529</td>\n",
       "      <td>27154</td>\n",
       "      <td>M</td>\n",
       "      <td>01/01/2018 06:19:00 a. m.</td>\n",
       "      <td>01/01/2018 06:24:00 a. m.</td>\n",
       "      <td>11</td>\n",
       "      <td>173</td>\n",
       "      <td>00:05:00</td>\n",
       "    </tr>\n",
       "    <tr>\n",
       "      <th>5</th>\n",
       "      <td>01/01/2018</td>\n",
       "      <td>4783530</td>\n",
       "      <td>32199</td>\n",
       "      <td>M</td>\n",
       "      <td>01/01/2018 06:24:00 a. m.</td>\n",
       "      <td>01/01/2018 06:35:00 a. m.</td>\n",
       "      <td>250</td>\n",
       "      <td>167</td>\n",
       "      <td>00:11:00</td>\n",
       "    </tr>\n",
       "    <tr>\n",
       "      <th>6</th>\n",
       "      <td>01/01/2018</td>\n",
       "      <td>4783531</td>\n",
       "      <td>16942</td>\n",
       "      <td>M</td>\n",
       "      <td>01/01/2018 06:30:00 a. m.</td>\n",
       "      <td>01/01/2018 06:41:00 a. m.</td>\n",
       "      <td>42</td>\n",
       "      <td>191</td>\n",
       "      <td>00:11:00</td>\n",
       "    </tr>\n",
       "    <tr>\n",
       "      <th>7</th>\n",
       "      <td>01/01/2018</td>\n",
       "      <td>4783532</td>\n",
       "      <td>32705</td>\n",
       "      <td>F</td>\n",
       "      <td>01/01/2018 06:32:00 a. m.</td>\n",
       "      <td>01/01/2018 06:49:00 a. m.</td>\n",
       "      <td>86</td>\n",
       "      <td>160</td>\n",
       "      <td>00:17:00</td>\n",
       "    </tr>\n",
       "    <tr>\n",
       "      <th>8</th>\n",
       "      <td>01/01/2018</td>\n",
       "      <td>4783533</td>\n",
       "      <td>9596</td>\n",
       "      <td>M</td>\n",
       "      <td>01/01/2018 06:32:00 a. m.</td>\n",
       "      <td>01/01/2018 06:49:00 a. m.</td>\n",
       "      <td>86</td>\n",
       "      <td>160</td>\n",
       "      <td>00:17:00</td>\n",
       "    </tr>\n",
       "    <tr>\n",
       "      <th>9</th>\n",
       "      <td>01/01/2018</td>\n",
       "      <td>4783534</td>\n",
       "      <td>17818</td>\n",
       "      <td>M</td>\n",
       "      <td>01/01/2018 06:32:00 a. m.</td>\n",
       "      <td>01/01/2018 06:48:00 a. m.</td>\n",
       "      <td>165</td>\n",
       "      <td>167</td>\n",
       "      <td>00:16:00</td>\n",
       "    </tr>\n",
       "  </tbody>\n",
       "</table>\n",
       "</div>"
      ],
      "text/plain": [
       "        Fecha Viaje_Id Usuario_Id Genero           Inicio_del_viaje  \\\n",
       "0  01/01/2018  4783525      28966      M  01/01/2018 06:01:00 a. m.   \n",
       "1  01/01/2018  4783526      30089      M  01/01/2018 06:03:00 a. m.   \n",
       "2  01/01/2018  4783527      32691      M  01/01/2018 06:09:00 a. m.   \n",
       "3  01/01/2018  4783528      19027      M  01/01/2018 06:16:00 a. m.   \n",
       "4  01/01/2018  4783529      27154      M  01/01/2018 06:19:00 a. m.   \n",
       "5  01/01/2018  4783530      32199      M  01/01/2018 06:24:00 a. m.   \n",
       "6  01/01/2018  4783531      16942      M  01/01/2018 06:30:00 a. m.   \n",
       "7  01/01/2018  4783532      32705      F  01/01/2018 06:32:00 a. m.   \n",
       "8  01/01/2018  4783533       9596      M  01/01/2018 06:32:00 a. m.   \n",
       "9  01/01/2018  4783534      17818      M  01/01/2018 06:32:00 a. m.   \n",
       "\n",
       "               Fin_del_viaje Origen_Id Destino_Id duracion_viaje  \n",
       "0  01/01/2018 06:10:00 a. m.        59         28       00:09:00  \n",
       "1  01/01/2018 06:06:00 a. m.       250        164       00:03:00  \n",
       "2  01/01/2018 06:15:00 a. m.       148        238       00:06:00  \n",
       "3  01/01/2018 06:26:00 a. m.       202         51       00:10:00  \n",
       "4  01/01/2018 06:24:00 a. m.        11        173       00:05:00  \n",
       "5  01/01/2018 06:35:00 a. m.       250        167       00:11:00  \n",
       "6  01/01/2018 06:41:00 a. m.        42        191       00:11:00  \n",
       "7  01/01/2018 06:49:00 a. m.        86        160       00:17:00  \n",
       "8  01/01/2018 06:49:00 a. m.        86        160       00:17:00  \n",
       "9  01/01/2018 06:48:00 a. m.       165        167       00:16:00  "
      ]
     },
     "execution_count": 65,
     "metadata": {},
     "output_type": "execute_result"
    }
   ],
   "source": [
    "pd.DataFrame(result, columns = connection.execute(query).keys())"
   ]
  },
  {
   "cell_type": "code",
   "execution_count": 81,
   "metadata": {},
   "outputs": [],
   "source": [
    "from sqlalchemy import select\n",
    "#from sqlalchemy.sql import text\n"
   ]
  },
  {
   "cell_type": "code",
   "execution_count": 88,
   "metadata": {},
   "outputs": [],
   "source": [
    "pySQL = select([viaje])"
   ]
  },
  {
   "cell_type": "code",
   "execution_count": 89,
   "metadata": {},
   "outputs": [
    {
     "name": "stdout",
     "output_type": "stream",
     "text": [
      "2020-06-29 13:46:40,229 INFO sqlalchemy.engine.base.Engine SELECT `Viaje`.`Fecha`, `Viaje`.`Viaje_Id`, `Viaje`.`Usuario_Id`, `Viaje`.`Genero`, `Viaje`.`Inicio_del_viaje`, `Viaje`.`Fin_del_viaje`, `Viaje`.`Origen_Id`, `Viaje`.`Destino_Id`, `Viaje`.duracion_viaje \n",
      "FROM `Viaje`\n",
      "2020-06-29 13:46:40,231 INFO sqlalchemy.engine.base.Engine {}\n"
     ]
    }
   ],
   "source": [
    "results2 = connection.execute(pySQL).fetchmany(size=10)"
   ]
  },
  {
   "cell_type": "code",
   "execution_count": 92,
   "metadata": {},
   "outputs": [
    {
     "data": {
      "text/html": [
       "<div>\n",
       "<style scoped>\n",
       "    .dataframe tbody tr th:only-of-type {\n",
       "        vertical-align: middle;\n",
       "    }\n",
       "\n",
       "    .dataframe tbody tr th {\n",
       "        vertical-align: top;\n",
       "    }\n",
       "\n",
       "    .dataframe thead th {\n",
       "        text-align: right;\n",
       "    }\n",
       "</style>\n",
       "<table border=\"1\" class=\"dataframe\">\n",
       "  <thead>\n",
       "    <tr style=\"text-align: right;\">\n",
       "      <th></th>\n",
       "      <th>0</th>\n",
       "      <th>1</th>\n",
       "      <th>2</th>\n",
       "      <th>3</th>\n",
       "      <th>4</th>\n",
       "      <th>5</th>\n",
       "      <th>6</th>\n",
       "      <th>7</th>\n",
       "      <th>8</th>\n",
       "    </tr>\n",
       "  </thead>\n",
       "  <tbody>\n",
       "    <tr>\n",
       "      <th>0</th>\n",
       "      <td>01/01/2018</td>\n",
       "      <td>4783525</td>\n",
       "      <td>28966</td>\n",
       "      <td>M</td>\n",
       "      <td>01/01/2018 06:01:00 a. m.</td>\n",
       "      <td>01/01/2018 06:10:00 a. m.</td>\n",
       "      <td>59</td>\n",
       "      <td>28</td>\n",
       "      <td>00:09:00</td>\n",
       "    </tr>\n",
       "    <tr>\n",
       "      <th>1</th>\n",
       "      <td>01/01/2018</td>\n",
       "      <td>4783526</td>\n",
       "      <td>30089</td>\n",
       "      <td>M</td>\n",
       "      <td>01/01/2018 06:03:00 a. m.</td>\n",
       "      <td>01/01/2018 06:06:00 a. m.</td>\n",
       "      <td>250</td>\n",
       "      <td>164</td>\n",
       "      <td>00:03:00</td>\n",
       "    </tr>\n",
       "    <tr>\n",
       "      <th>2</th>\n",
       "      <td>01/01/2018</td>\n",
       "      <td>4783527</td>\n",
       "      <td>32691</td>\n",
       "      <td>M</td>\n",
       "      <td>01/01/2018 06:09:00 a. m.</td>\n",
       "      <td>01/01/2018 06:15:00 a. m.</td>\n",
       "      <td>148</td>\n",
       "      <td>238</td>\n",
       "      <td>00:06:00</td>\n",
       "    </tr>\n",
       "    <tr>\n",
       "      <th>3</th>\n",
       "      <td>01/01/2018</td>\n",
       "      <td>4783528</td>\n",
       "      <td>19027</td>\n",
       "      <td>M</td>\n",
       "      <td>01/01/2018 06:16:00 a. m.</td>\n",
       "      <td>01/01/2018 06:26:00 a. m.</td>\n",
       "      <td>202</td>\n",
       "      <td>51</td>\n",
       "      <td>00:10:00</td>\n",
       "    </tr>\n",
       "    <tr>\n",
       "      <th>4</th>\n",
       "      <td>01/01/2018</td>\n",
       "      <td>4783529</td>\n",
       "      <td>27154</td>\n",
       "      <td>M</td>\n",
       "      <td>01/01/2018 06:19:00 a. m.</td>\n",
       "      <td>01/01/2018 06:24:00 a. m.</td>\n",
       "      <td>11</td>\n",
       "      <td>173</td>\n",
       "      <td>00:05:00</td>\n",
       "    </tr>\n",
       "    <tr>\n",
       "      <th>5</th>\n",
       "      <td>01/01/2018</td>\n",
       "      <td>4783530</td>\n",
       "      <td>32199</td>\n",
       "      <td>M</td>\n",
       "      <td>01/01/2018 06:24:00 a. m.</td>\n",
       "      <td>01/01/2018 06:35:00 a. m.</td>\n",
       "      <td>250</td>\n",
       "      <td>167</td>\n",
       "      <td>00:11:00</td>\n",
       "    </tr>\n",
       "    <tr>\n",
       "      <th>6</th>\n",
       "      <td>01/01/2018</td>\n",
       "      <td>4783531</td>\n",
       "      <td>16942</td>\n",
       "      <td>M</td>\n",
       "      <td>01/01/2018 06:30:00 a. m.</td>\n",
       "      <td>01/01/2018 06:41:00 a. m.</td>\n",
       "      <td>42</td>\n",
       "      <td>191</td>\n",
       "      <td>00:11:00</td>\n",
       "    </tr>\n",
       "    <tr>\n",
       "      <th>7</th>\n",
       "      <td>01/01/2018</td>\n",
       "      <td>4783532</td>\n",
       "      <td>32705</td>\n",
       "      <td>F</td>\n",
       "      <td>01/01/2018 06:32:00 a. m.</td>\n",
       "      <td>01/01/2018 06:49:00 a. m.</td>\n",
       "      <td>86</td>\n",
       "      <td>160</td>\n",
       "      <td>00:17:00</td>\n",
       "    </tr>\n",
       "    <tr>\n",
       "      <th>8</th>\n",
       "      <td>01/01/2018</td>\n",
       "      <td>4783533</td>\n",
       "      <td>9596</td>\n",
       "      <td>M</td>\n",
       "      <td>01/01/2018 06:32:00 a. m.</td>\n",
       "      <td>01/01/2018 06:49:00 a. m.</td>\n",
       "      <td>86</td>\n",
       "      <td>160</td>\n",
       "      <td>00:17:00</td>\n",
       "    </tr>\n",
       "    <tr>\n",
       "      <th>9</th>\n",
       "      <td>01/01/2018</td>\n",
       "      <td>4783534</td>\n",
       "      <td>17818</td>\n",
       "      <td>M</td>\n",
       "      <td>01/01/2018 06:32:00 a. m.</td>\n",
       "      <td>01/01/2018 06:48:00 a. m.</td>\n",
       "      <td>165</td>\n",
       "      <td>167</td>\n",
       "      <td>00:16:00</td>\n",
       "    </tr>\n",
       "  </tbody>\n",
       "</table>\n",
       "</div>"
      ],
      "text/plain": [
       "            0        1      2  3                          4  \\\n",
       "0  01/01/2018  4783525  28966  M  01/01/2018 06:01:00 a. m.   \n",
       "1  01/01/2018  4783526  30089  M  01/01/2018 06:03:00 a. m.   \n",
       "2  01/01/2018  4783527  32691  M  01/01/2018 06:09:00 a. m.   \n",
       "3  01/01/2018  4783528  19027  M  01/01/2018 06:16:00 a. m.   \n",
       "4  01/01/2018  4783529  27154  M  01/01/2018 06:19:00 a. m.   \n",
       "5  01/01/2018  4783530  32199  M  01/01/2018 06:24:00 a. m.   \n",
       "6  01/01/2018  4783531  16942  M  01/01/2018 06:30:00 a. m.   \n",
       "7  01/01/2018  4783532  32705  F  01/01/2018 06:32:00 a. m.   \n",
       "8  01/01/2018  4783533   9596  M  01/01/2018 06:32:00 a. m.   \n",
       "9  01/01/2018  4783534  17818  M  01/01/2018 06:32:00 a. m.   \n",
       "\n",
       "                           5    6    7         8  \n",
       "0  01/01/2018 06:10:00 a. m.   59   28  00:09:00  \n",
       "1  01/01/2018 06:06:00 a. m.  250  164  00:03:00  \n",
       "2  01/01/2018 06:15:00 a. m.  148  238  00:06:00  \n",
       "3  01/01/2018 06:26:00 a. m.  202   51  00:10:00  \n",
       "4  01/01/2018 06:24:00 a. m.   11  173  00:05:00  \n",
       "5  01/01/2018 06:35:00 a. m.  250  167  00:11:00  \n",
       "6  01/01/2018 06:41:00 a. m.   42  191  00:11:00  \n",
       "7  01/01/2018 06:49:00 a. m.   86  160  00:17:00  \n",
       "8  01/01/2018 06:49:00 a. m.   86  160  00:17:00  \n",
       "9  01/01/2018 06:48:00 a. m.  165  167  00:16:00  "
      ]
     },
     "execution_count": 92,
     "metadata": {},
     "output_type": "execute_result"
    }
   ],
   "source": [
    "pd.DataFrame(results2)"
   ]
  },
  {
   "cell_type": "markdown",
   "metadata": {},
   "source": [
    "# Creación de una Tabla"
   ]
  },
  {
   "cell_type": "code",
   "execution_count": 143,
   "metadata": {},
   "outputs": [
    {
     "name": "stdout",
     "output_type": "stream",
     "text": [
      "2020-06-29 16:17:39,249 INFO sqlalchemy.engine.base.Engine DESCRIBE `Viaje`\n",
      "2020-06-29 16:17:39,251 INFO sqlalchemy.engine.base.Engine {}\n",
      "2020-06-29 16:17:39,357 INFO sqlalchemy.engine.base.Engine DESCRIBE `ejemplo`\n",
      "2020-06-29 16:17:39,359 INFO sqlalchemy.engine.base.Engine {}\n",
      "2020-06-29 16:17:39,466 INFO sqlalchemy.engine.base.Engine ROLLBACK\n",
      "2020-06-29 16:17:39,573 INFO sqlalchemy.engine.base.Engine \n",
      "CREATE TABLE ejemplo (\n",
      "\t`Id` INTEGER, \n",
      "\tname VARCHAR(255), \n",
      "\tsalary FLOAT, \n",
      "\tactive BOOL, \n",
      "\tCHECK (active IN (0, 1))\n",
      ")\n",
      "\n",
      "\n",
      "2020-06-29 16:17:39,575 INFO sqlalchemy.engine.base.Engine {}\n",
      "2020-06-29 16:17:39,706 INFO sqlalchemy.engine.base.Engine COMMIT\n"
     ]
    }
   ],
   "source": [
    "ejemplo = db.Table('ejemplo', metadata,\n",
    "              db.Column('Id', db.Integer()),\n",
    "              db.Column('name', db.String(255)),\n",
    "              db.Column('salary', db.Float(), default=100.0),\n",
    "              db.Column('active', db.Boolean(), default=True)\n",
    "              )\n",
    "\n",
    "metadata.create_all(engine)"
   ]
  },
  {
   "cell_type": "code",
   "execution_count": 144,
   "metadata": {},
   "outputs": [
    {
     "name": "stdout",
     "output_type": "stream",
     "text": [
      "2020-06-29 16:17:47,616 INFO sqlalchemy.engine.base.Engine INSERT INTO ejemplo (`Id`, name, salary, active) VALUES (%(Id)s, %(name)s, %(salary)s, %(active)s)\n",
      "2020-06-29 16:17:47,617 INFO sqlalchemy.engine.base.Engine {'Id': 1, 'name': 'Hugo', 'salary': 60000.0, 'active': 1}\n",
      "2020-06-29 16:17:47,742 INFO sqlalchemy.engine.base.Engine COMMIT\n"
     ]
    }
   ],
   "source": [
    "#Inserting record one by one\n",
    "query = db.insert(ejemplo).values(Id=1, name='Hugo', salary=60000.00, active=True) \n",
    "results = connection.execute(query)"
   ]
  },
  {
   "cell_type": "code",
   "execution_count": 145,
   "metadata": {},
   "outputs": [
    {
     "name": "stdout",
     "output_type": "stream",
     "text": [
      "2020-06-29 16:18:30,648 INFO sqlalchemy.engine.base.Engine INSERT INTO ejemplo (`Id`, name, salary, active) VALUES (%(Id)s, %(name)s, %(salary)s, %(active)s)\n",
      "2020-06-29 16:18:30,650 INFO sqlalchemy.engine.base.Engine ({'Id': '2', 'name': 'Paco', 'salary': 80000, 'active': 0}, {'Id': '3', 'name': 'Luis', 'salary': 70000, 'active': 1})\n",
      "2020-06-29 16:18:30,758 INFO sqlalchemy.engine.base.Engine COMMIT\n"
     ]
    }
   ],
   "source": [
    "query = db.insert(ejemplo) \n",
    "values_list = [{'Id':'2',\n",
    "                'name':'Paco', 'salary':80000, 'active':False},\n",
    "               {'Id':'3', 'name':'Luis', 'salary':70000, 'active':True}]\n",
    "results = connection.execute(query,values_list)"
   ]
  },
  {
   "cell_type": "code",
   "execution_count": 157,
   "metadata": {},
   "outputs": [
    {
     "name": "stdout",
     "output_type": "stream",
     "text": [
      "2020-06-29 16:22:01,693 INFO sqlalchemy.engine.base.Engine SELECT ejemplo.`Id`, ejemplo.name, ejemplo.salary, ejemplo.active \n",
      "FROM ejemplo\n",
      "2020-06-29 16:22:01,695 INFO sqlalchemy.engine.base.Engine {}\n"
     ]
    },
    {
     "data": {
      "text/html": [
       "<div>\n",
       "<style scoped>\n",
       "    .dataframe tbody tr th:only-of-type {\n",
       "        vertical-align: middle;\n",
       "    }\n",
       "\n",
       "    .dataframe tbody tr th {\n",
       "        vertical-align: top;\n",
       "    }\n",
       "\n",
       "    .dataframe thead th {\n",
       "        text-align: right;\n",
       "    }\n",
       "</style>\n",
       "<table border=\"1\" class=\"dataframe\">\n",
       "  <thead>\n",
       "    <tr style=\"text-align: right;\">\n",
       "      <th></th>\n",
       "      <th>Id</th>\n",
       "      <th>name</th>\n",
       "      <th>salary</th>\n",
       "      <th>active</th>\n",
       "    </tr>\n",
       "  </thead>\n",
       "  <tbody>\n",
       "    <tr>\n",
       "      <th>0</th>\n",
       "      <td>1</td>\n",
       "      <td>Hugo</td>\n",
       "      <td>60000.0</td>\n",
       "      <td>True</td>\n",
       "    </tr>\n",
       "    <tr>\n",
       "      <th>1</th>\n",
       "      <td>2</td>\n",
       "      <td>Paco</td>\n",
       "      <td>80000.0</td>\n",
       "      <td>False</td>\n",
       "    </tr>\n",
       "    <tr>\n",
       "      <th>2</th>\n",
       "      <td>3</td>\n",
       "      <td>Luis Nuevo</td>\n",
       "      <td>70000.0</td>\n",
       "      <td>True</td>\n",
       "    </tr>\n",
       "  </tbody>\n",
       "</table>\n",
       "</div>"
      ],
      "text/plain": [
       "   Id        name   salary  active\n",
       "0   1        Hugo  60000.0    True\n",
       "1   2        Paco  80000.0   False\n",
       "2   3  Luis Nuevo  70000.0    True"
      ]
     },
     "execution_count": 157,
     "metadata": {},
     "output_type": "execute_result"
    }
   ],
   "source": [
    "results = connection.execute(db.select([ejemplo])).fetchall()\n",
    "df = pd.DataFrame(results)\n",
    "df.columns = results[0].keys()\n",
    "pd.DataFrame(df)\n"
   ]
  },
  {
   "cell_type": "code",
   "execution_count": 148,
   "metadata": {},
   "outputs": [
    {
     "data": {
      "text/html": [
       "<div>\n",
       "<style scoped>\n",
       "    .dataframe tbody tr th:only-of-type {\n",
       "        vertical-align: middle;\n",
       "    }\n",
       "\n",
       "    .dataframe tbody tr th {\n",
       "        vertical-align: top;\n",
       "    }\n",
       "\n",
       "    .dataframe thead th {\n",
       "        text-align: right;\n",
       "    }\n",
       "</style>\n",
       "<table border=\"1\" class=\"dataframe\">\n",
       "  <thead>\n",
       "    <tr style=\"text-align: right;\">\n",
       "      <th></th>\n",
       "      <th>Id</th>\n",
       "      <th>name</th>\n",
       "      <th>salary</th>\n",
       "      <th>active</th>\n",
       "    </tr>\n",
       "  </thead>\n",
       "  <tbody>\n",
       "    <tr>\n",
       "      <th>0</th>\n",
       "      <td>1</td>\n",
       "      <td>Hugo</td>\n",
       "      <td>60000.0</td>\n",
       "      <td>True</td>\n",
       "    </tr>\n",
       "    <tr>\n",
       "      <th>1</th>\n",
       "      <td>2</td>\n",
       "      <td>Paco</td>\n",
       "      <td>80000.0</td>\n",
       "      <td>False</td>\n",
       "    </tr>\n",
       "    <tr>\n",
       "      <th>2</th>\n",
       "      <td>3</td>\n",
       "      <td>Luis</td>\n",
       "      <td>70000.0</td>\n",
       "      <td>True</td>\n",
       "    </tr>\n",
       "  </tbody>\n",
       "</table>\n",
       "</div>"
      ],
      "text/plain": [
       "   Id  name   salary  active\n",
       "0   1  Hugo  60000.0    True\n",
       "1   2  Paco  80000.0   False\n",
       "2   3  Luis  70000.0    True"
      ]
     },
     "execution_count": 148,
     "metadata": {},
     "output_type": "execute_result"
    }
   ],
   "source": []
  },
  {
   "cell_type": "markdown",
   "metadata": {},
   "source": [
    "# Update"
   ]
  },
  {
   "cell_type": "markdown",
   "metadata": {},
   "source": [
    "db.update(table_name).values(attribute = new_value).where(condition)"
   ]
  },
  {
   "cell_type": "code",
   "execution_count": 149,
   "metadata": {},
   "outputs": [],
   "source": [
    "sql = \"UPDATE ejemplo SET name='Luis Nuevo' WHERE Id =3\""
   ]
  },
  {
   "cell_type": "code",
   "execution_count": 156,
   "metadata": {},
   "outputs": [
    {
     "name": "stdout",
     "output_type": "stream",
     "text": [
      "2020-06-29 16:21:29,778 INFO sqlalchemy.engine.base.Engine UPDATE ejemplo SET name='Luis Nuevo' WHERE Id =3\n",
      "2020-06-29 16:21:29,779 INFO sqlalchemy.engine.base.Engine {}\n",
      "2020-06-29 16:21:29,885 INFO sqlalchemy.engine.base.Engine COMMIT\n"
     ]
    }
   ],
   "source": [
    "results = connection.execute(sql)"
   ]
  },
  {
   "cell_type": "code",
   "execution_count": 158,
   "metadata": {},
   "outputs": [
    {
     "name": "stdout",
     "output_type": "stream",
     "text": [
      "2020-06-29 16:22:07,521 INFO sqlalchemy.engine.base.Engine SELECT ejemplo.`Id`, ejemplo.name, ejemplo.salary, ejemplo.active \n",
      "FROM ejemplo\n",
      "2020-06-29 16:22:07,523 INFO sqlalchemy.engine.base.Engine {}\n"
     ]
    },
    {
     "data": {
      "text/html": [
       "<div>\n",
       "<style scoped>\n",
       "    .dataframe tbody tr th:only-of-type {\n",
       "        vertical-align: middle;\n",
       "    }\n",
       "\n",
       "    .dataframe tbody tr th {\n",
       "        vertical-align: top;\n",
       "    }\n",
       "\n",
       "    .dataframe thead th {\n",
       "        text-align: right;\n",
       "    }\n",
       "</style>\n",
       "<table border=\"1\" class=\"dataframe\">\n",
       "  <thead>\n",
       "    <tr style=\"text-align: right;\">\n",
       "      <th></th>\n",
       "      <th>Id</th>\n",
       "      <th>name</th>\n",
       "      <th>salary</th>\n",
       "      <th>active</th>\n",
       "    </tr>\n",
       "  </thead>\n",
       "  <tbody>\n",
       "    <tr>\n",
       "      <th>0</th>\n",
       "      <td>1</td>\n",
       "      <td>Hugo</td>\n",
       "      <td>60000.0</td>\n",
       "      <td>True</td>\n",
       "    </tr>\n",
       "    <tr>\n",
       "      <th>1</th>\n",
       "      <td>2</td>\n",
       "      <td>Paco</td>\n",
       "      <td>80000.0</td>\n",
       "      <td>False</td>\n",
       "    </tr>\n",
       "    <tr>\n",
       "      <th>2</th>\n",
       "      <td>3</td>\n",
       "      <td>Luis Nuevo</td>\n",
       "      <td>70000.0</td>\n",
       "      <td>True</td>\n",
       "    </tr>\n",
       "  </tbody>\n",
       "</table>\n",
       "</div>"
      ],
      "text/plain": [
       "   Id        name   salary  active\n",
       "0   1        Hugo  60000.0    True\n",
       "1   2        Paco  80000.0   False\n",
       "2   3  Luis Nuevo  70000.0    True"
      ]
     },
     "execution_count": 158,
     "metadata": {},
     "output_type": "execute_result"
    }
   ],
   "source": [
    "results = connection.execute(db.select([ejemplo])).fetchall()\n",
    "df = pd.DataFrame(results)\n",
    "df.columns = results[0].keys()\n",
    "pd.DataFrame(df)\n"
   ]
  },
  {
   "cell_type": "code",
   "execution_count": 159,
   "metadata": {},
   "outputs": [
    {
     "name": "stdout",
     "output_type": "stream",
     "text": [
      "2020-06-29 16:22:18,264 INFO sqlalchemy.engine.base.Engine UPDATE ejemplo SET salary=%(salary)s WHERE ejemplo.`Id` = %(Id_1)s\n",
      "2020-06-29 16:22:18,265 INFO sqlalchemy.engine.base.Engine {'salary': 100000, 'Id_1': 1}\n",
      "2020-06-29 16:22:18,398 INFO sqlalchemy.engine.base.Engine COMMIT\n"
     ]
    }
   ],
   "source": [
    "# Build a statement to update the salary to 100000\n",
    "query = db.update(ejemplo).values(salary = 100000)\n",
    "query = query.where(ejemplo.columns.Id == 1)\n",
    "results = connection.execute(query)\n",
    "\n"
   ]
  },
  {
   "cell_type": "code",
   "execution_count": 160,
   "metadata": {},
   "outputs": [
    {
     "name": "stdout",
     "output_type": "stream",
     "text": [
      "2020-06-29 16:22:22,148 INFO sqlalchemy.engine.base.Engine SELECT ejemplo.`Id`, ejemplo.name, ejemplo.salary, ejemplo.active \n",
      "FROM ejemplo\n",
      "2020-06-29 16:22:22,149 INFO sqlalchemy.engine.base.Engine {}\n"
     ]
    },
    {
     "data": {
      "text/html": [
       "<div>\n",
       "<style scoped>\n",
       "    .dataframe tbody tr th:only-of-type {\n",
       "        vertical-align: middle;\n",
       "    }\n",
       "\n",
       "    .dataframe tbody tr th {\n",
       "        vertical-align: top;\n",
       "    }\n",
       "\n",
       "    .dataframe thead th {\n",
       "        text-align: right;\n",
       "    }\n",
       "</style>\n",
       "<table border=\"1\" class=\"dataframe\">\n",
       "  <thead>\n",
       "    <tr style=\"text-align: right;\">\n",
       "      <th></th>\n",
       "      <th>Id</th>\n",
       "      <th>name</th>\n",
       "      <th>salary</th>\n",
       "      <th>active</th>\n",
       "    </tr>\n",
       "  </thead>\n",
       "  <tbody>\n",
       "    <tr>\n",
       "      <th>0</th>\n",
       "      <td>1</td>\n",
       "      <td>Hugo</td>\n",
       "      <td>100000.0</td>\n",
       "      <td>True</td>\n",
       "    </tr>\n",
       "    <tr>\n",
       "      <th>1</th>\n",
       "      <td>2</td>\n",
       "      <td>Paco</td>\n",
       "      <td>80000.0</td>\n",
       "      <td>False</td>\n",
       "    </tr>\n",
       "    <tr>\n",
       "      <th>2</th>\n",
       "      <td>3</td>\n",
       "      <td>Luis Nuevo</td>\n",
       "      <td>70000.0</td>\n",
       "      <td>True</td>\n",
       "    </tr>\n",
       "  </tbody>\n",
       "</table>\n",
       "</div>"
      ],
      "text/plain": [
       "   Id        name    salary  active\n",
       "0   1        Hugo  100000.0    True\n",
       "1   2        Paco   80000.0   False\n",
       "2   3  Luis Nuevo   70000.0    True"
      ]
     },
     "execution_count": 160,
     "metadata": {},
     "output_type": "execute_result"
    }
   ],
   "source": [
    "results = connection.execute(db.select([ejemplo])).fetchall()\n",
    "df = pd.DataFrame(results)\n",
    "df.columns = results[0].keys()\n",
    "pd.DataFrame(df)\n"
   ]
  },
  {
   "cell_type": "markdown",
   "metadata": {},
   "source": [
    "# Borrar Tablas"
   ]
  },
  {
   "cell_type": "markdown",
   "metadata": {},
   "source": [
    "db.delete(table_name).where(condition)"
   ]
  },
  {
   "cell_type": "code",
   "execution_count": 166,
   "metadata": {},
   "outputs": [
    {
     "name": "stdout",
     "output_type": "stream",
     "text": [
      "2020-06-29 16:39:21,654 INFO sqlalchemy.engine.base.Engine DELETE FROM ejemplo WHERE ejemplo.salary < %(salary_1)s\n",
      "2020-06-29 16:39:21,655 INFO sqlalchemy.engine.base.Engine {'salary_1': 100000}\n",
      "2020-06-29 16:39:21,779 INFO sqlalchemy.engine.base.Engine COMMIT\n"
     ]
    }
   ],
   "source": [
    "query = db.delete(ejemplo).where(ejemplo.columns.salary < 100000)\n",
    "results = connection.execute(query)\n"
   ]
  },
  {
   "cell_type": "code",
   "execution_count": 120,
   "metadata": {},
   "outputs": [],
   "source": [
    "Bici = pd.read_csv('Bici.csv')"
   ]
  },
  {
   "cell_type": "code",
   "execution_count": 172,
   "metadata": {},
   "outputs": [],
   "source": [
    "Estaciones = pd.read_csv('Join1.csv')"
   ]
  },
  {
   "cell_type": "code",
   "execution_count": 174,
   "metadata": {},
   "outputs": [],
   "source": [
    "userDB = 'test'\n",
    "passwordDB = 'prueba123'\n",
    "hostDB = 'localhost'\n",
    "port= '3306'\n",
    "db = 'bisi'\n",
    "\n",
    "string = 'mysql+pymysql://'+userDB+':'+passwordDB+'@'+hostDB+':'+port+'/'+db"
   ]
  },
  {
   "cell_type": "code",
   "execution_count": 175,
   "metadata": {},
   "outputs": [],
   "source": [
    "engineLocal = create_engine(\n",
    "    string)\n",
    "\n",
    "local = engineLocal.connect()"
   ]
  },
  {
   "cell_type": "code",
   "execution_count": 121,
   "metadata": {},
   "outputs": [],
   "source": [
    "\n",
    "# append the data from census_df to the \"census\" table via connection\n",
    "Bici.to_sql(name=\"Bici\", con=local, if_exists=\"append\", index=False)"
   ]
  },
  {
   "cell_type": "code",
   "execution_count": 176,
   "metadata": {},
   "outputs": [],
   "source": [
    "\n",
    "# append the data from census_df to the \"census\" table via connection\n",
    "Estaciones.to_sql(name=\"Estaciones\", con=local, if_exists=\"append\", index=False)"
   ]
  },
  {
   "cell_type": "code",
   "execution_count": null,
   "metadata": {},
   "outputs": [],
   "source": [
    "'''\n",
    "if_exists{‘fail’, ‘replace’, ‘append’}, default ‘fail’\n",
    "\n",
    "    How to behave if the table already exists.\n",
    "\n",
    "        fail: Raise a ValueError.\n",
    "\n",
    "        replace: Drop the table before inserting new values.\n",
    "\n",
    "        append: Insert new values to the existing table.\n",
    "\n"
   ]
  }
 ],
 "metadata": {
  "kernelspec": {
   "display_name": "Python 3",
   "language": "python",
   "name": "python3"
  },
  "language_info": {
   "codemirror_mode": {
    "name": "ipython",
    "version": 3
   },
   "file_extension": ".py",
   "mimetype": "text/x-python",
   "name": "python",
   "nbconvert_exporter": "python",
   "pygments_lexer": "ipython3",
   "version": "3.6.8"
  }
 },
 "nbformat": 4,
 "nbformat_minor": 4
}
